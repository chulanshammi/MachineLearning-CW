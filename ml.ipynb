{
 "cells": [
  {
   "cell_type": "code",
   "execution_count": 12,
   "metadata": {},
   "outputs": [
    {
     "name": "stdout",
     "output_type": "stream",
     "text": [
      "    age          Workclass    fnlwgt   Education  Education_Num  \\\n",
      "0  39.0          State-gov   77516.0   Bachelors           13.0   \n",
      "1  50.0   Self-emp-not-inc   83311.0   Bachelors           13.0   \n",
      "2  38.0            Private  215646.0     HS-grad            9.0   \n",
      "3  53.0            Private  234721.0        11th            7.0   \n",
      "4  28.0            Private  338409.0   Bachelors           13.0   \n",
      "\n",
      "        Marital_Status          Occupation    Relationship    Race      Sex  \\\n",
      "0        Never-married        Adm-clerical   Not-in-family   White     Male   \n",
      "1   Married-civ-spouse     Exec-managerial         Husband   White     Male   \n",
      "2             Divorced   Handlers-cleaners   Not-in-family   White     Male   \n",
      "3   Married-civ-spouse   Handlers-cleaners         Husband   Black     Male   \n",
      "4   Married-civ-spouse      Prof-specialty            Wife   Black   Female   \n",
      "\n",
      "   Capital_Gain  Capital_Loss  Hours_per_Week  Native_Country  Income  \n",
      "0        2174.0           0.0            40.0   United-States   <=50K  \n",
      "1           0.0           0.0            13.0   United-States   <=50K  \n",
      "2           0.0           0.0            40.0   United-States   <=50K  \n",
      "3           0.0           0.0            40.0   United-States   <=50K  \n",
      "4           0.0           0.0            40.0            Cuba   <=50K  \n",
      "age               1\n",
      "Workclass         1\n",
      "fnlwgt            1\n",
      "Education         1\n",
      "Education_Num     1\n",
      "Marital_Status    1\n",
      "Occupation        1\n",
      "Relationship      1\n",
      "Race              1\n",
      "Sex               1\n",
      "Capital_Gain      1\n",
      "Capital_Loss      1\n",
      "Hours_per_Week    1\n",
      "Native_Country    1\n",
      "Income            1\n",
      "dtype: int64\n",
      "age               float64\n",
      "Workclass          object\n",
      "fnlwgt            float64\n",
      "Education          object\n",
      "Education_Num     float64\n",
      "Marital_Status     object\n",
      "Occupation         object\n",
      "Relationship       object\n",
      "Race               object\n",
      "Sex                object\n",
      "Capital_Gain      float64\n",
      "Capital_Loss      float64\n",
      "Hours_per_Week    float64\n",
      "Native_Country     object\n",
      "Income             object\n",
      "dtype: object\n"
     ]
    }
   ],
   "source": [
    "import pandas as pd\n",
    "\n",
    "# Load the dataset\n",
    "data = pd.read_csv(\"Datasets/Adult.csv\")\n",
    "\n",
    "# Display the first few rows of the dataset\n",
    "print(data.head())\n",
    "\n",
    "# Check for missing values\n",
    "print(data.isnull().sum())\n",
    "\n",
    "# Check the data types of each column\n",
    "print(data.dtypes)\n"
   ]
  },
  {
   "cell_type": "code",
   "execution_count": 13,
   "metadata": {},
   "outputs": [
    {
     "name": "stdout",
     "output_type": "stream",
     "text": [
      "Naïve Bayes Classifier Accuracy: 0.8277203398505476\n",
      "Random Forest Classifier Accuracy: 0.9002968574060805\n"
     ]
    }
   ],
   "source": [
    "from sklearn.model_selection import train_test_split\n",
    "from sklearn.preprocessing import OneHotEncoder\n",
    "from sklearn.naive_bayes import GaussianNB\n",
    "from sklearn.ensemble import RandomForestClassifier\n",
    "from sklearn.metrics import accuracy_score\n",
    "\n",
    "# Drop rows with missing values\n",
    "data.dropna(inplace=True)\n",
    "\n",
    "# Encode categorical variables using one-hot encoding\n",
    "data_encoded = pd.get_dummies(data, drop_first=True)\n",
    "\n",
    "# Split the data into features (X) and target variable (y)\n",
    "X = data_encoded.drop('Income_ >50K', axis=1)  # Features\n",
    "y = data_encoded['Income_ >50K']  # Target variable\n",
    "\n",
    "# Split the data into training and testing sets\n",
    "X_train, X_test, y_train, y_test = train_test_split(X, y, test_size=0.2, random_state=42)\n",
    "\n",
    "# Initialize Naïve Bayes classifier\n",
    "naive_bayes = GaussianNB()\n",
    "\n",
    "# Train Naïve Bayes classifier\n",
    "naive_bayes.fit(X_train, y_train)\n",
    "\n",
    "# Predict on the testing set\n",
    "nb_pred = naive_bayes.predict(X_test)\n",
    "\n",
    "# Calculate accuracy of Naïve Bayes classifier\n",
    "nb_accuracy = accuracy_score(y_test, nb_pred)\n",
    "print(\"Naïve Bayes Classifier Accuracy:\", nb_accuracy)\n",
    "\n",
    "# Initialize Random Forest classifier\n",
    "random_forest = RandomForestClassifier(random_state=42)\n",
    "\n",
    "# Train Random Forest classifier\n",
    "random_forest.fit(X_train, y_train)\n",
    "\n",
    "# Predict on the testing set\n",
    "rf_pred = random_forest.predict(X_test)\n",
    "\n",
    "# Calculate accuracy of Random Forest classifier\n",
    "rf_accuracy = accuracy_score(y_test, rf_pred)\n",
    "print(\"Random Forest Classifier Accuracy:\", rf_accuracy)"
   ]
  },
  {
   "cell_type": "code",
   "execution_count": null,
   "metadata": {},
   "outputs": [],
   "source": []
  }
 ],
 "metadata": {
  "kernelspec": {
   "display_name": "Python 3",
   "language": "python",
   "name": "python3"
  },
  "language_info": {
   "codemirror_mode": {
    "name": "ipython",
    "version": 3
   },
   "file_extension": ".py",
   "mimetype": "text/x-python",
   "name": "python",
   "nbconvert_exporter": "python",
   "pygments_lexer": "ipython3",
   "version": "3.9.6"
  }
 },
 "nbformat": 4,
 "nbformat_minor": 2
}
